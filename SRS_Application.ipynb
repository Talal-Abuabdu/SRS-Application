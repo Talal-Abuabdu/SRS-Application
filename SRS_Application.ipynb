{
  "nbformat": 4,
  "nbformat_minor": 0,
  "metadata": {
    "colab": {
      "provenance": []
    },
    "kernelspec": {
      "name": "python3",
      "display_name": "Python 3"
    },
    "language_info": {
      "name": "python"
    }
  },
  "cells": [
    {
      "cell_type": "markdown",
      "source": [
        "# **This is a student record system**\n",
        "\n",
        "\n",
        "\n",
        "\n"
      ],
      "metadata": {
        "id": "hbzad8C719zN"
      }
    },
    {
      "cell_type": "code",
      "execution_count": 1,
      "metadata": {
        "id": "QyTRFpjd0OUC"
      },
      "outputs": [],
      "source": [
        "import pandas as pd # import the pandas library for data reading and saving"
      ]
    },
    {
      "cell_type": "code",
      "source": [
        "# Load information from file\n",
        "file_data = pd.read_csv(\"/content/Student File.csv\")"
      ],
      "metadata": {
        "id": "PX5DdiHw5TfP"
      },
      "execution_count": 2,
      "outputs": []
    },
    {
      "cell_type": "code",
      "source": [
        "# Read the data from the loaded file\n",
        "students_data = pd.DataFrame(file_data)"
      ],
      "metadata": {
        "id": "7Xal4ZPW6cT_"
      },
      "execution_count": 3,
      "outputs": []
    },
    {
      "cell_type": "markdown",
      "source": [
        "Load Students information into a list of tuples to make it readable by the interpreter"
      ],
      "metadata": {
        "id": "XhwS9Vasx_VX"
      }
    },
    {
      "cell_type": "code",
      "source": [
        "'''\n",
        "Open a list Called students to make the information \n",
        "in the list to imply algorithms\n",
        "'''\n",
        "Students = [] # Empty list\n",
        "Student_Name = students_data[\"Student Name\"]\n",
        "Student_marks = students_data[\"Grades\"]\n",
        "count = 0\n",
        "\n",
        "'''\n",
        "Start a loop to guarantee the addtion of each name\n",
        "in the file storing the students info is \n",
        "stored in the list with their student ID.\n",
        "'''\n",
        "for i in students_data[\"Student ID\"]:\n",
        "    t = (i, Student_Name[count], Student_marks[count])\n",
        "    Students.append(t)\n",
        "    count += 1  \n"
      ],
      "metadata": {
        "id": "o9zy2Ee48rnP"
      },
      "execution_count": 60,
      "outputs": []
    },
    {
      "cell_type": "code",
      "source": [
        "Students # To display the unsorted Students list"
      ],
      "metadata": {
        "id": "2-mYkymH1qT2",
        "colab": {
          "base_uri": "https://localhost:8080/"
        },
        "outputId": "51ce44c8-cf68-47d7-cc09-b98bf74f6511"
      },
      "execution_count": 61,
      "outputs": [
        {
          "output_type": "execute_result",
          "data": {
            "text/plain": [
              "[(1295, 'Anas', 98),\n",
              " (1147, 'Abdulelah', 45),\n",
              " (1170, 'Abdulsalam', 76),\n",
              " (1283, 'Abdulrahman', 54),\n",
              " (1120, 'Abdulgaleel', 97),\n",
              " (1179, 'Sahar', 67),\n",
              " (1128, 'Abdullah', 74),\n",
              " (1226, 'Omar', 39),\n",
              " (1274, 'Omair', 99),\n",
              " (1158, 'Yazan', 23),\n",
              " (1219, 'Own', 34),\n",
              " (1232, 'Mahmoud', 45),\n",
              " (1273, 'Lara', 64),\n",
              " (1130, 'Sarah', 95),\n",
              " (1138, 'Zaid', 89),\n",
              " (1203, 'Olga', 77),\n",
              " (1186, 'Talal', 100),\n",
              " (1221, 'Jawad', 43),\n",
              " (1228, 'Lubna', 81),\n",
              " (1243, 'Najwan', 42),\n",
              " (1132, 'Ehab', 74),\n",
              " (1155, 'Limar', 63),\n",
              " (1122, 'Yara', 100),\n",
              " (1278, 'Lilyan', 99),\n",
              " (1201, 'Ibrahim', 91),\n",
              " (1119, 'Bana', 43),\n",
              " (1154, 'Alaa', 86),\n",
              " (1229, 'Siham', 44),\n",
              " (1183, 'Iyad', 79),\n",
              " (1194, 'Ahmad', 23),\n",
              " (1287, 'Mustafa', 0),\n",
              " (1299, 'Laith', 82),\n",
              " (1195, 'Mohammad', 74),\n",
              " (1162, 'Osama', 30),\n",
              " (1199, 'Al Waleed', 35),\n",
              " (1262, 'Yaseen', 71),\n",
              " (1184, 'Fares', 54),\n",
              " (1231, 'Tariq', 99),\n",
              " (1296, 'Leen', 96),\n",
              " (1174, 'Hind', 92),\n",
              " (1110, 'John', 100),\n",
              " (1166, 'Michael', 74),\n",
              " (1298, 'Zack', 88),\n",
              " (1204, 'Cody', 43),\n",
              " (1198, 'Ismail', 75),\n",
              " (1202, 'Bader', 45),\n",
              " (1293, 'Saeed', 33),\n",
              " (1215, 'Ghaith', 21),\n",
              " (1189, 'Abdulmoamen', 99),\n",
              " (1180, 'Abdulhadi', 32)]"
            ]
          },
          "metadata": {},
          "execution_count": 61
        }
      ]
    },
    {
      "cell_type": "code",
      "source": [
        "# A function to sort the list in order by ID\n",
        "def bubbleSort_ID(array): \n",
        "    # array: is the unsorted list\n",
        "\n",
        "    n = len(array)\n",
        "    swapped = False # If the array is already sorted  it does not\n",
        "                    # need to go through the entire process\n",
        "\n",
        "    # Go through all array elements\n",
        "    for i in range(n-1):\n",
        "        # (n-1) For the loop not to repeat one time more than needed.\n",
        "        for j in range(0, n-i-1):\n",
        "            '''\n",
        "            Traverse the array from 0 to n-i-1\n",
        "            Swap if the element found is greater than the next element\n",
        "            '''\n",
        "            if array[j] > array[j + 1]:\n",
        "                swapped = True\n",
        "                array[j], array[j + 1] = array[j + 1], array[j]\n",
        "        '''\n",
        "        If we haven't needed to make a single swap, we\n",
        "        Can just exit the main loop.\n",
        "        '''  \n",
        "        if not swapped:\n",
        "            return"
      ],
      "metadata": {
        "id": "kNwNuHXR6ekW"
      },
      "execution_count": 6,
      "outputs": []
    },
    {
      "cell_type": "code",
      "source": [
        "# Apply the ID bubblesort function on the students list\n",
        "bubbleSort_ID(Students)"
      ],
      "metadata": {
        "id": "43lpNn0YKmdM"
      },
      "execution_count": 26,
      "outputs": []
    },
    {
      "cell_type": "code",
      "source": [
        "# Use a predefined function to sort the list by alphabatical order\n",
        "def bubbleSort_Name(array): \n",
        "    # array: is the unsorted list\n",
        "\n",
        "    n = len(array)\n",
        "    swapped = False # Optimize code, so if the array is already sorted\n",
        "                    # it doesn't need to go through the entire process\n",
        "\n",
        "    # Go through all array elements\n",
        "    for i in range(n-1):\n",
        "        # (n-1) For the loop not to repeat one time more than needed.\n",
        "        for j in range(0, n-i-1):\n",
        "            '''\n",
        "            Traverse the array from 0 to n-i-1\n",
        "            Swap if the element found is greater than the next element\n",
        "            '''\n",
        "            if array[j][1] > array[j + 1][1]:\n",
        "                swapped = True\n",
        "                array[j], array[j + 1] = array[j + 1], array[j]\n",
        "        '''\n",
        "        If we haven't needed to make a single swap, we\n",
        "        Can just exit the main loop.\n",
        "        '''  \n",
        "        if not swapped:\n",
        "            return"
      ],
      "metadata": {
        "id": "_e43PyYmmZSd"
      },
      "execution_count": 9,
      "outputs": []
    },
    {
      "cell_type": "code",
      "source": [
        "# Apply the Name bubblesort function on the students list \n",
        "bubbleSort_Name(Students) "
      ],
      "metadata": {
        "id": "MPmYu6a8moBq"
      },
      "execution_count": 20,
      "outputs": []
    },
    {
      "cell_type": "code",
      "source": [
        "Students # To display the Sorted Students list"
      ],
      "metadata": {
        "id": "BhAEiXsR1wDx",
        "colab": {
          "base_uri": "https://localhost:8080/"
        },
        "outputId": "69e703c3-85ec-462b-fc0a-a0eedd04d20c"
      },
      "execution_count": 27,
      "outputs": [
        {
          "output_type": "execute_result",
          "data": {
            "text/plain": [
              "[(1110, 'John', 100),\n",
              " (1119, 'Bana', 43),\n",
              " (1120, 'Abdulgaleel', 97),\n",
              " (1122, 'Yara', 100),\n",
              " (1128, 'Abdullah', 74),\n",
              " (1130, 'Sarah', 95),\n",
              " (1132, 'Ehab', 74),\n",
              " (1138, 'Zaid', 89),\n",
              " (1147, 'Abdulelah', 45),\n",
              " (1154, 'Alaa', 86),\n",
              " (1155, 'Limar', 63),\n",
              " (1158, 'Yazan', 23),\n",
              " (1162, 'Osama', 30),\n",
              " (1166, 'Michael', 74),\n",
              " (1170, 'Abdulsalam', 76),\n",
              " (1174, 'Hind', 92),\n",
              " (1179, 'Sahar', 67),\n",
              " (1180, 'Abdulhadi', 32),\n",
              " (1183, 'Iyad', 79),\n",
              " (1184, 'Fares', 54),\n",
              " (1186, 'Talal', 100),\n",
              " (1189, 'Abdulmoamen', 99),\n",
              " (1194, 'Ahmad', 23),\n",
              " (1195, 'Mohammad', 74),\n",
              " (1198, 'Ismail', 75),\n",
              " (1199, 'Al Waleed', 35),\n",
              " (1201, 'Ibrahim', 91),\n",
              " (1202, 'Bader', 45),\n",
              " (1203, 'Olga', 77),\n",
              " (1204, 'Cody', 43),\n",
              " (1215, 'Ghaith', 21),\n",
              " (1219, 'Own', 34),\n",
              " (1221, 'Jawad', 43),\n",
              " (1226, 'Omar', 39),\n",
              " (1228, 'Lubna', 81),\n",
              " (1229, 'Siham', 44),\n",
              " (1231, 'Tariq', 99),\n",
              " (1232, 'Mahmoud', 45),\n",
              " (1243, 'Najwan', 42),\n",
              " (1262, 'Yaseen', 71),\n",
              " (1273, 'Lara', 64),\n",
              " (1274, 'Omair', 99),\n",
              " (1278, 'Lilyan', 99),\n",
              " (1283, 'Abdulrahman', 54),\n",
              " (1287, 'Mustafa', 0),\n",
              " (1293, 'Saeed', 33),\n",
              " (1295, 'Anas', 98),\n",
              " (1296, 'Leen', 96),\n",
              " (1298, 'Zack', 88),\n",
              " (1299, 'Laith', 82)]"
            ]
          },
          "metadata": {},
          "execution_count": 27
        }
      ]
    },
    {
      "cell_type": "markdown",
      "source": [
        "Binary Search algorithm to look for index of certain ID"
      ],
      "metadata": {
        "id": "4KpdL8nNMMet"
      }
    },
    {
      "cell_type": "code",
      "source": [
        "# Returns index of x in arr if present, else -1 if not present.\n",
        "def binary_Search_ID(arr, low, high, x):\n",
        "    '''\n",
        "\t\tarr: Sorted list\n",
        "\t\tlow: The lowest index in the list\n",
        "\t\tHigh: The highest index in the list\n",
        "\t\tx: The element the user is looking for\n",
        "\t\t'''\n",
        "    bubbleSort_ID(Students)\n",
        "    # Check base case\n",
        "    if high >= low:\n",
        " \n",
        "        mid = (low + high) // 2\n",
        " \n",
        "        # If element is present at the middle\n",
        "        if arr[mid][0] == x:\n",
        "            return mid\n",
        " \n",
        "        # If element is smaller than mid, then it\n",
        "        # is present in left subarray\n",
        "        elif arr[mid][0] > x:\n",
        "            return binary_Search_ID(arr, low, mid-1, x)\n",
        " \n",
        "        # Else the element can only be present in right subarray\n",
        "        else:\n",
        "            return binary_Search_ID(arr, mid + 1, high, x)\n",
        " \n",
        "    else:\n",
        "        # Element is not present in the array\n",
        "        print(\"ID requested is not in the list\")\n",
        " "
      ],
      "metadata": {
        "id": "zk6s0sbj-53J"
      },
      "execution_count": 12,
      "outputs": []
    },
    {
      "cell_type": "markdown",
      "source": [
        "Try the binary search function"
      ],
      "metadata": {
        "id": "nouiLVoj35gq"
      }
    },
    {
      "cell_type": "code",
      "source": [
        "# Get ID input from the user to display index\n",
        "ID_Binary = int(input(\"Please Enter the ID you want to find: \"))\n",
        "binary_Search_ID(Students, 0, len(Students), ID_Binary)"
      ],
      "metadata": {
        "id": "x7om8MO3Mxdx",
        "colab": {
          "base_uri": "https://localhost:8080/"
        },
        "outputId": "24acfe5b-1c67-4791-dc54-6a9481b1fcf0"
      },
      "execution_count": 17,
      "outputs": [
        {
          "output_type": "stream",
          "name": "stdout",
          "text": [
            "Please Enter the ID you want to find: 800\n",
            "ID requested is not in the list\n"
          ]
        }
      ]
    },
    {
      "cell_type": "code",
      "source": [
        "# Returns index of x in the array if present, else -1 if not present.\n",
        "def binary_Search_Name(arr, low, high, x):\n",
        "    '''\n",
        "\t\tarr: Sorted list\n",
        "\t\tlow: The lowest index in the list\n",
        "\t\tHigh: The highest index in the list\n",
        "\t\tx: The element the user is looking for\n",
        "\t\t'''\n",
        "    bubbleSort_Name(Students)\n",
        "    # Check base case\n",
        "    if high >= low:\n",
        " \n",
        "        mid = (low + high) // 2\n",
        " \n",
        "        # If element is present at the middle\n",
        "        if arr[mid][1] == x:\n",
        "            return mid\n",
        " \n",
        "        # If element is smaller than mid, then it\n",
        "        # is present in left subarray\n",
        "        elif arr[mid][1] > x:\n",
        "            return binary_Search_Name(arr, low, mid-1, x)\n",
        " \n",
        "        # Else the element can only be present in right subarray\n",
        "        else:\n",
        "            return binary_Search_Name(arr, mid + 1, high, x)\n",
        " \n",
        "    else:\n",
        "        # Element is not present in the array\n",
        "        print(\"Name requested is not in the list\")\n",
        " "
      ],
      "metadata": {
        "id": "gvMhydMoC0Dn"
      },
      "execution_count": 18,
      "outputs": []
    },
    {
      "cell_type": "code",
      "source": [
        "# Get Name input from the user to display index\n",
        "Name_Binary = str(input(\"Please Enter the Name you want to find: \"))\n",
        "binary_Search_Name(Students, 0, len(Students)-1, Name_Binary)"
      ],
      "metadata": {
        "id": "toBrXvdqDKU5",
        "colab": {
          "base_uri": "https://localhost:8080/"
        },
        "outputId": "db6bcc16-6935-4f31-e597-6f846a3c92eb"
      },
      "execution_count": 23,
      "outputs": [
        {
          "output_type": "stream",
          "name": "stdout",
          "text": [
            "Please Enter the Name you want to find: Adam\n",
            "Name requested is not in the list\n"
          ]
        }
      ]
    },
    {
      "cell_type": "markdown",
      "source": [
        "Sequential Search algorithm to look for index of certain ID"
      ],
      "metadata": {
        "id": "aOc3VvLBiMjU"
      }
    },
    {
      "cell_type": "code",
      "source": [
        "'''\n",
        "Linearly search x in arr[].\n",
        "If x is present then return its location,\n",
        "otherwise return -1 if not present\n",
        "''' \n",
        "def linear_Search_ID(arr, N, x):\n",
        "    '''\n",
        "    arr: The sorted list\n",
        "    N: Total number of elements/length\n",
        "    x: The element the user is looking for\n",
        "    '''\n",
        "    bubbleSort_ID(Students) # To have the list ordered by ID\n",
        "    for i in range(0, N): \n",
        "        if arr[i][0] == x:\n",
        "            return i # If element present in the list, return the index\n",
        "    return -1"
      ],
      "metadata": {
        "id": "P-d-L9s-ia_4"
      },
      "execution_count": 24,
      "outputs": []
    },
    {
      "cell_type": "markdown",
      "source": [
        "Try the sequential search algorithm"
      ],
      "metadata": {
        "id": "XinOwceG3-WP"
      }
    },
    {
      "cell_type": "code",
      "source": [
        "# Get ID input from the user to display index\n",
        "ID_Sequential = int(input(\"Please Enter the ID you want to find: \"))\n",
        "linear_Search_ID(Students, len(Students), ID_Sequential)"
      ],
      "metadata": {
        "id": "gygEaGh6if2Y",
        "colab": {
          "base_uri": "https://localhost:8080/"
        },
        "outputId": "9f602d14-140c-405e-b250-85a9c29cc467"
      },
      "execution_count": 29,
      "outputs": [
        {
          "name": "stdout",
          "output_type": "stream",
          "text": [
            "Please Enter the ID you want to find: 800\n"
          ]
        },
        {
          "output_type": "execute_result",
          "data": {
            "text/plain": [
              "-1"
            ]
          },
          "metadata": {},
          "execution_count": 29
        }
      ]
    },
    {
      "cell_type": "code",
      "source": [
        "'''\n",
        "Linearly search x in arr[].\n",
        "If x is present then return its location,\n",
        "otherwise return -1 if not present\n",
        "''' \n",
        "def linear_Search_Name(arr, N, x):\n",
        "    '''\n",
        "    arr: The sorted list\n",
        "    N: Total number of elements/length\n",
        "    x: The element the user is looking for\n",
        "    '''\n",
        "    bubbleSort_Name(Students) # To have the list ordered by Name  Alphabtically\n",
        "    for i in range(0, N):\n",
        "        if arr[i][1] == x:\n",
        "            return i # If element present in the list, return element\n",
        "    return -1"
      ],
      "metadata": {
        "id": "qZD73A__KwBE"
      },
      "execution_count": 30,
      "outputs": []
    },
    {
      "cell_type": "code",
      "source": [
        "# Get ID input from the user to display index\n",
        "Name_Sequential = str(input(\"Please Enter the Name you want to find: \"))\n",
        "linear_Search_Name(Students, len(Students), Name_Sequential)"
      ],
      "metadata": {
        "id": "e0HHncz1KyD6",
        "colab": {
          "base_uri": "https://localhost:8080/"
        },
        "outputId": "87d05abc-629a-43a6-a66e-6f324fb77dbd"
      },
      "execution_count": 31,
      "outputs": [
        {
          "name": "stdout",
          "output_type": "stream",
          "text": [
            "Please Enter the Name you want to find: Sahar\n"
          ]
        },
        {
          "output_type": "execute_result",
          "data": {
            "text/plain": [
              "40"
            ]
          },
          "metadata": {},
          "execution_count": 31
        }
      ]
    },
    {
      "cell_type": "code",
      "source": [
        "# Adds students to the list\n",
        "def add_student(student_ID, student_Name, student_grade):\n",
        "    Student_IDS=[] # Open list of ID's\n",
        "    for x in range (len(Students)):\n",
        "        Student_IDS.append(Students[x][0]) # Appends all ID's into the list\n",
        "\n",
        "    \n",
        "    # Add the info typed in except if the ID is not already in the list\n",
        "    if student_ID not in Student_IDS and student_grade <= 100:\n",
        "        Students.append((student_ID, student_Name, student_grade))\n",
        "        bubbleSort_ID(Students) # To resort the list after appending\n",
        "        print(\"Student added successfully\")\n",
        "    else:\n",
        "        print(\"ID exists in the list and/or Student mark more than 100\")"
      ],
      "metadata": {
        "id": "Fo-dVP-lPGG1"
      },
      "execution_count": 32,
      "outputs": []
    },
    {
      "cell_type": "markdown",
      "source": [
        "Add a student to the list"
      ],
      "metadata": {
        "id": "x3S_u9914Jw8"
      }
    },
    {
      "cell_type": "code",
      "source": [
        "add_student(8000, \"Marzooq\", 64)"
      ],
      "metadata": {
        "id": "8HKt1lgvRg08",
        "colab": {
          "base_uri": "https://localhost:8080/"
        },
        "outputId": "b9d822a4-7d68-41eb-bccf-446bfd78606b"
      },
      "execution_count": 63,
      "outputs": [
        {
          "output_type": "stream",
          "name": "stdout",
          "text": [
            "ID exists in the list and/or Student mark more than 100\n"
          ]
        }
      ]
    },
    {
      "cell_type": "code",
      "source": [
        "Students # To see the new student in the list"
      ],
      "metadata": {
        "id": "qi1CIIFHxQyc",
        "colab": {
          "base_uri": "https://localhost:8080/"
        },
        "outputId": "6815b73f-cfb0-48bf-9c14-85fd1077a287"
      },
      "execution_count": 35,
      "outputs": [
        {
          "output_type": "execute_result",
          "data": {
            "text/plain": [
              "[(1110, 'John', 100),\n",
              " (1117, 'Marzooq', 64),\n",
              " (1119, 'Bana', 43),\n",
              " (1120, 'Abdulgaleel', 97),\n",
              " (1122, 'Yara', 100),\n",
              " (1128, 'Abdullah', 74),\n",
              " (1130, 'Sarah', 95),\n",
              " (1132, 'Ehab', 74),\n",
              " (1138, 'Zaid', 89),\n",
              " (1147, 'Abdulelah', 45),\n",
              " (1154, 'Alaa', 86),\n",
              " (1155, 'Limar', 63),\n",
              " (1158, 'Yazan', 23),\n",
              " (1162, 'Osama', 30),\n",
              " (1166, 'Michael', 74),\n",
              " (1170, 'Abdulsalam', 76),\n",
              " (1174, 'Hind', 92),\n",
              " (1179, 'Sahar', 67),\n",
              " (1180, 'Abdulhadi', 32),\n",
              " (1183, 'Iyad', 79),\n",
              " (1184, 'Fares', 54),\n",
              " (1186, 'Talal', 100),\n",
              " (1189, 'Abdulmoamen', 99),\n",
              " (1194, 'Ahmad', 23),\n",
              " (1195, 'Mohammad', 74),\n",
              " (1198, 'Ismail', 75),\n",
              " (1199, 'Al Waleed', 35),\n",
              " (1201, 'Ibrahim', 91),\n",
              " (1202, 'Bader', 45),\n",
              " (1203, 'Olga', 77),\n",
              " (1204, 'Cody', 43),\n",
              " (1215, 'Ghaith', 21),\n",
              " (1219, 'Own', 34),\n",
              " (1221, 'Jawad', 43),\n",
              " (1226, 'Omar', 39),\n",
              " (1228, 'Lubna', 81),\n",
              " (1229, 'Siham', 44),\n",
              " (1231, 'Tariq', 99),\n",
              " (1232, 'Mahmoud', 45),\n",
              " (1243, 'Najwan', 42),\n",
              " (1262, 'Yaseen', 71),\n",
              " (1273, 'Lara', 64),\n",
              " (1274, 'Omair', 99),\n",
              " (1278, 'Lilyan', 99),\n",
              " (1283, 'Abdulrahman', 54),\n",
              " (1287, 'Mustafa', 0),\n",
              " (1293, 'Saeed', 33),\n",
              " (1295, 'Anas', 98),\n",
              " (1296, 'Leen', 96),\n",
              " (1298, 'Zack', 88),\n",
              " (1299, 'Laith', 82)]"
            ]
          },
          "metadata": {},
          "execution_count": 35
        }
      ]
    },
    {
      "cell_type": "markdown",
      "source": [
        "Algorithm to Remove students from the List by ID"
      ],
      "metadata": {
        "id": "bFinnDFYTdfz"
      }
    },
    {
      "cell_type": "code",
      "source": [
        "# Removes student from the list by ID\n",
        "def remove_student(ID_to_remove):\n",
        "    # Looks through the list for the targeted ID\n",
        "    for i in range (len(Students)-1):\n",
        "        if Students[i][0] == ID_to_remove: # Checks for a match to the element\n",
        "            # Once found, removes all info related to the student\n",
        "            Students.remove(Students[i])"
      ],
      "metadata": {
        "id": "cQs6V2dCz76M"
      },
      "execution_count": 39,
      "outputs": []
    },
    {
      "cell_type": "markdown",
      "source": [
        "  Remove a student from the list"
      ],
      "metadata": {
        "id": "Q0yo9WwH4Vyz"
      }
    },
    {
      "cell_type": "code",
      "source": [
        "remove_student(1296)"
      ],
      "metadata": {
        "id": "lt0RLNJ_rF-r"
      },
      "execution_count": 40,
      "outputs": []
    },
    {
      "cell_type": "code",
      "source": [
        "Students # To see the removed student"
      ],
      "metadata": {
        "id": "CDllRbKTfoKe",
        "colab": {
          "base_uri": "https://localhost:8080/"
        },
        "outputId": "dacdb225-f378-4c46-a1d8-4871428e3150"
      },
      "execution_count": 41,
      "outputs": [
        {
          "output_type": "execute_result",
          "data": {
            "text/plain": [
              "[(1110, 'John', 100),\n",
              " (1117, 'Marzooq', 64),\n",
              " (1119, 'Bana', 43),\n",
              " (1120, 'Abdulgaleel', 97),\n",
              " (1122, 'Yara', 100),\n",
              " (1128, 'Abdullah', 74),\n",
              " (1130, 'Sarah', 95),\n",
              " (1132, 'Ehab', 74),\n",
              " (1138, 'Zaid', 89),\n",
              " (1147, 'Abdulelah', 45),\n",
              " (1154, 'Alaa', 86),\n",
              " (1155, 'Limar', 63),\n",
              " (1158, 'Yazan', 23),\n",
              " (1162, 'Osama', 30),\n",
              " (1166, 'Michael', 74),\n",
              " (1170, 'Abdulsalam', 76),\n",
              " (1174, 'Hind', 92),\n",
              " (1179, 'Sahar', 67),\n",
              " (1180, 'Abdulhadi', 32),\n",
              " (1183, 'Iyad', 79),\n",
              " (1184, 'Fares', 54),\n",
              " (1186, 'Talal', 100),\n",
              " (1189, 'Abdulmoamen', 99),\n",
              " (1194, 'Ahmad', 23),\n",
              " (1195, 'Mohammad', 74),\n",
              " (1198, 'Ismail', 75),\n",
              " (1199, 'Al Waleed', 35),\n",
              " (1201, 'Ibrahim', 91),\n",
              " (1202, 'Bader', 45),\n",
              " (1203, 'Olga', 77),\n",
              " (1204, 'Cody', 43),\n",
              " (1215, 'Ghaith', 21),\n",
              " (1219, 'Own', 34),\n",
              " (1221, 'Jawad', 43),\n",
              " (1226, 'Omar', 39),\n",
              " (1228, 'Lubna', 81),\n",
              " (1229, 'Siham', 44),\n",
              " (1231, 'Tariq', 99),\n",
              " (1232, 'Mahmoud', 45),\n",
              " (1243, 'Najwan', 42),\n",
              " (1262, 'Yaseen', 71),\n",
              " (1273, 'Lara', 64),\n",
              " (1274, 'Omair', 99),\n",
              " (1278, 'Lilyan', 99),\n",
              " (1283, 'Abdulrahman', 54),\n",
              " (1287, 'Mustafa', 0),\n",
              " (1293, 'Saeed', 33),\n",
              " (1295, 'Anas', 98),\n",
              " (1298, 'Zack', 88),\n",
              " (1299, 'Laith', 82)]"
            ]
          },
          "metadata": {},
          "execution_count": 41
        }
      ]
    },
    {
      "cell_type": "markdown",
      "source": [
        "Algorithm that updates already existing student info in the list by ID"
      ],
      "metadata": {
        "id": "bu1n__hATt17"
      }
    },
    {
      "cell_type": "code",
      "source": [
        "# Algorithm that updates already existing student info in the list by ID\n",
        "def update_student(Student_Id, Updated_student_name, updated_mark):\n",
        "    \n",
        "    '''\n",
        "    Loop goes through all elements of the\n",
        "    student list till it matches\n",
        "    the student ID\n",
        "    '''\n",
        "    for i in range(len(Students)):\n",
        "        if Students[i][0] == Student_Id:\n",
        "            # Once Matched, the Name and Grade changes\n",
        "            Students[i]= (Student_Id ,Updated_student_name, updated_mark)\n",
        "            print(\"Info updated successfully\")"
      ],
      "metadata": {
        "id": "PwLzNwI7vump"
      },
      "execution_count": 42,
      "outputs": []
    },
    {
      "cell_type": "markdown",
      "source": [
        "Update student information inside the list"
      ],
      "metadata": {
        "id": "MlW5ujlw4nqG"
      }
    },
    {
      "cell_type": "code",
      "source": [
        "update_student(1295, 'Anas', 20) "
      ],
      "metadata": {
        "id": "GkmwRy8-lypE"
      },
      "execution_count": null,
      "outputs": []
    },
    {
      "cell_type": "code",
      "source": [
        "Students # To check whether the updates are there or not"
      ],
      "metadata": {
        "id": "DMMAWzm3CJLR"
      },
      "execution_count": null,
      "outputs": []
    },
    {
      "cell_type": "code",
      "source": [
        "# Function to find the number of students registered in the system\n",
        "def Count(array):\n",
        "    # array: the list (sorted or unsorted)\n",
        "    print(len(array))"
      ],
      "metadata": {
        "id": "_rbxufH2m2N4"
      },
      "execution_count": 46,
      "outputs": []
    },
    {
      "cell_type": "code",
      "source": [
        "Count(Students)"
      ],
      "metadata": {
        "id": "3lvJoiSKnQF4"
      },
      "execution_count": null,
      "outputs": []
    },
    {
      "cell_type": "code",
      "source": [
        "Final_Students_List = pd.DataFrame(Students) # To change it to a data frame  "
      ],
      "metadata": {
        "id": "F8ib27GjP6n2"
      },
      "execution_count": 52,
      "outputs": []
    },
    {
      "cell_type": "code",
      "source": [
        "# Changes column names\n",
        "Final_Students_List.columns = [\"Student ID\", \"Student Name\", \"Student Grade\"]"
      ],
      "metadata": {
        "id": "M3x6_sq8Wunq"
      },
      "execution_count": 53,
      "outputs": []
    },
    {
      "cell_type": "code",
      "source": [
        "# To save the data frame as a CSV file\n",
        "Final_Students_List.to_csv(\"/content/Student File.csv\")"
      ],
      "metadata": {
        "id": "jxsKlFoWQGIr"
      },
      "execution_count": 59,
      "outputs": []
    }
  ]
}